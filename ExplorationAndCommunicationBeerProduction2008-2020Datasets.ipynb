{
 "cells": [
  {
   "cell_type": "markdown",
   "metadata": {},
   "source": [
    "**Pedro Antonio Mora Chacón** *Student#* 22203184\n",
    "\n",
    "### Prepare USA beer production by year (2008-2019) dataset for exploration. <br>\n",
    "\n",
    "##### The data itself comes from the Alcohol and Tobacco Tax and Trade Bureau (TTB) as presented in the rfordatascience / tidytuesday repository found here; https://github.com/rfordatascience/tidytuesday/blob/master/data/2020/2020-03-31/readme.md."
   ]
  },
  {
   "cell_type": "markdown",
   "metadata": {},
   "source": [
    "##### Multiple CSV files will be uploaded into Pandas to cleanup, and prepare to make a combined CSV file to use in Vega-Lite.  "
   ]
  },
  {
   "cell_type": "code",
   "execution_count": 301,
   "metadata": {},
   "outputs": [],
   "source": [
    "# Import modules\n",
    "import pandas as pd\n",
    "from sklearn.impute import KNNImputer\n",
    "import numpy as np"
   ]
  },
  {
   "cell_type": "markdown",
   "metadata": {},
   "source": [
    "##### Datasets:"
   ]
  },
  {
   "cell_type": "code",
   "execution_count": 302,
   "metadata": {},
   "outputs": [],
   "source": [
    "# Datasets:\n",
    "\n",
    "# beer_taxed.csv:\n",
    "\n",
    "beer_taxed_csv = 'https://raw.githubusercontent.com/rfordatascience/tidytuesday/5fd005949175ace3551f3f7488c4685d6e48a2ee/data/2020/2020-03-31/beer_taxed.csv'\n",
    "\n",
    "# beer_states.csv:\n",
    "\n",
    "beer_states_csv = 'https://raw.githubusercontent.com/rfordatascience/tidytuesday/5fd005949175ace3551f3f7488c4685d6e48a2ee/data/2020/2020-03-31/beer_states.csv'\n",
    "\n",
    "# brewer_size.csv:\n",
    "\n",
    "brewer_size_csv = 'https://raw.githubusercontent.com/rfordatascience/tidytuesday/5fd005949175ace3551f3f7488c4685d6e48a2ee/data/2020/2020-03-31/brewer_size.csv'\n",
    "\n",
    "# brewing_materials.csv:\n",
    "\n",
    "brewing_materials_csv = 'https://raw.githubusercontent.com/rfordatascience/tidytuesday/5fd005949175ace3551f3f7488c4685d6e48a2ee/data/2020/2020-03-31/brewing_materials.csv'\n",
    "\n",
    "# brewing_products.csv:\n",
    "\n",
    "brewing_products_csv = 'https://raw.githubusercontent.com/rfordatascience/tidytuesday/5fd005949175ace3551f3f7488c4685d6e48a2ee/data/2020/2020-03-31/brewing_products.csv'"
   ]
  },
  {
   "cell_type": "markdown",
   "metadata": {},
   "source": [
    "##### Dataframes:"
   ]
  },
  {
   "cell_type": "code",
   "execution_count": 303,
   "metadata": {},
   "outputs": [],
   "source": [
    "# Dataframes:\n",
    "\n",
    "# Create list to add dfs to for easier processing:\n",
    "df_dict = dict()\n",
    "\n",
    "# beer_taxed.csv:\n",
    "\n",
    "df_dict[\"beer_taxed\"] = pd.read_csv(beer_taxed_csv,  keep_default_na=True, delimiter=',', skipinitialspace=True)\n",
    "\n",
    "\n",
    "# beer_states.csv:\n",
    "\n",
    "df_dict[\"beer_states\"] = pd.read_csv(beer_states_csv,  keep_default_na=True, delimiter=',', skipinitialspace=True)\n",
    "\n",
    "\n",
    "# brewer_size.csv:\n",
    "\n",
    "df_dict[\"brewer_size\"] = pd.read_csv(brewer_size_csv,  keep_default_na=True, delimiter=',', skipinitialspace=True)\n",
    "\n",
    "\n",
    "# brewing_materials.csv:\n",
    "\n",
    "df_dict[\"brewing_materials\"] = pd.read_csv(brewing_products_csv,  keep_default_na=True, delimiter=',', skipinitialspace=True)\n",
    "\n",
    "\n",
    "# brewing_products.csv:\n",
    "\n",
    "df_dict[\"brewing_products\"] = pd.read_csv(brewing_materials_csv,  keep_default_na=True, delimiter=',', skipinitialspace=True)\n"
   ]
  },
  {
   "cell_type": "markdown",
   "metadata": {},
   "source": [
    "##### Looking briefly at each set  "
   ]
  },
  {
   "cell_type": "code",
   "execution_count": 304,
   "metadata": {},
   "outputs": [
    {
     "name": "stdout",
     "output_type": "stream",
     "text": [
      "**************************************************************************************************** \n",
      "DF_DICT['BEER_TAXED']\n",
      " **************************************************************************************************** \n",
      "\n",
      "\n",
      "\n",
      "data_type            object\n",
      "tax_status           object\n",
      "year                  int64\n",
      "month                 int64\n",
      "type                 object\n",
      "month_current         int64\n",
      "month_prior_year      int64\n",
      "ytd_current         float64\n",
      "ytd_prior_year      float64\n",
      "tax_rate             object\n",
      "dtype: object\n",
      "\n",
      "      ------------------------------------------------------------ \n",
      "\n",
      "      df_dict['beer_taxed']: earliest = 2008 most recent = 2019\n",
      "      ------------------------------------------------------------ \n",
      "\n",
      "df_dict['beer_taxed'] categorical column data values:\n",
      "\n",
      "\n",
      "\n",
      "df_dict['beer_taxed']['data_type'] values:\n",
      "data_type\n",
      "Barrels Produced    1580\n",
      "Name: count, dtype: int64\n",
      "\n",
      "\n",
      "df_dict['beer_taxed']['tax_status'] values:\n",
      "tax_status\n",
      "Totals                432\n",
      "Taxable               432\n",
      "Tax Free              428\n",
      "Sub Total Taxable     144\n",
      "Sub Total Tax-Free    144\n",
      "Name: count, dtype: int64\n",
      "\n",
      "\n",
      "df_dict['beer_taxed']['type'] values:\n",
      "type\n",
      "Production                      144\n",
      "In bottles and cans             144\n",
      "Tax Determined, Premises Use    144\n",
      "Sub Total Taxable               144\n",
      "For export                      144\n",
      "Consumed on brewery premises    144\n",
      "Sub Total Tax-Free              144\n",
      "Total Removals                  144\n",
      "Stocks On Hand end-of-month:    144\n",
      "For vessels and aircraft        140\n",
      "In barrels and kegs              73\n",
      "In kegs                          71\n",
      "Name: count, dtype: int64\n",
      "\n",
      "\n",
      "df_dict['beer_taxed']['tax_rate'] values:\n",
      "tax_rate\n",
      "$7/$18 per barrel       1320\n",
      "$3.50/$16 per barrel     260\n",
      "Name: count, dtype: int64\n",
      "      ------------------------------------------------------------ \n",
      "\n",
      "**************************************************************************************************** \n",
      "DF_DICT['BEER_STATES']\n",
      " **************************************************************************************************** \n",
      "\n",
      "\n",
      "\n",
      "state       object\n",
      "year         int64\n",
      "barrels    float64\n",
      "type        object\n",
      "dtype: object\n",
      "\n",
      "      ------------------------------------------------------------ \n",
      "\n",
      "      df_dict['beer_states']: earliest = 2008 most recent = 2019\n",
      "      ------------------------------------------------------------ \n",
      "\n",
      "df_dict['beer_states'] categorical column data values:\n",
      "\n",
      "\n",
      "\n",
      "df_dict['beer_states']['state'] values:\n",
      "state\n",
      "AK       36\n",
      "AL       36\n",
      "ND       36\n",
      "NE       36\n",
      "NH       36\n",
      "NJ       36\n",
      "NM       36\n",
      "NV       36\n",
      "NY       36\n",
      "OH       36\n",
      "OK       36\n",
      "OR       36\n",
      "PA       36\n",
      "RI       36\n",
      "SC       36\n",
      "SD       36\n",
      "TN       36\n",
      "TX       36\n",
      "UT       36\n",
      "VA       36\n",
      "VT       36\n",
      "WA       36\n",
      "WI       36\n",
      "WV       36\n",
      "WY       36\n",
      "NC       36\n",
      "MT       36\n",
      "MS       36\n",
      "IA       36\n",
      "AR       36\n",
      "AZ       36\n",
      "CA       36\n",
      "CO       36\n",
      "CT       36\n",
      "DC       36\n",
      "DE       36\n",
      "FL       36\n",
      "GA       36\n",
      "HI       36\n",
      "ID       36\n",
      "MO       36\n",
      "IL       36\n",
      "IN       36\n",
      "KS       36\n",
      "KY       36\n",
      "LA       36\n",
      "MA       36\n",
      "MD       36\n",
      "ME       36\n",
      "MI       36\n",
      "MN       36\n",
      "total    36\n",
      "Name: count, dtype: int64\n",
      "\n",
      "\n",
      "df_dict['beer_states']['type'] values:\n",
      "type\n",
      "On Premises         624\n",
      "Bottles and Cans    624\n",
      "Kegs and Barrels    624\n",
      "Name: count, dtype: int64\n",
      "      ------------------------------------------------------------ \n",
      "\n",
      "**************************************************************************************************** \n",
      "DF_DICT['BREWER_SIZE']\n",
      " **************************************************************************************************** \n",
      "\n",
      "\n",
      "\n",
      "year                  int64\n",
      "brewer_size          object\n",
      "n_of_brewers          int64\n",
      "total_barrels       float64\n",
      "taxable_removals    float64\n",
      "total_shipped       float64\n",
      "dtype: object\n",
      "\n",
      "      ------------------------------------------------------------ \n",
      "\n",
      "      df_dict['brewer_size']: earliest = 2009 most recent = 2019\n",
      "      ------------------------------------------------------------ \n",
      "\n",
      "df_dict['brewer_size'] categorical column data values:\n",
      "\n",
      "\n",
      "\n",
      "df_dict['brewer_size']['brewer_size'] values:\n",
      "brewer_size\n",
      "6,000,001 Barrels and Over        11\n",
      "500,001 to 1,000,000 Barrels      11\n",
      "100,001 to 500,000 Barrels        11\n",
      "60,001 to 100,000 Barrels         11\n",
      "30,001 to 60,000 Barrels          11\n",
      "15,001 to 30,000 Barrels          11\n",
      "7,501 to 15,000 Barrels           11\n",
      "1,001 to 7,500 Barrels            11\n",
      "1 to 1,000 Barrels                11\n",
      "Total                             11\n",
      "2,000,000 to 6,000,000 Barrels     9\n",
      "1,000,001 to 1,999,999 Barrels     9\n",
      "Under 1 Barrel                     6\n",
      "1,000,001 to 6,000,000 Barrels     1\n",
      "1,000,000 to 6,000,000 Barrels     1\n",
      "Zero Barrels                       1\n",
      "Name: count, dtype: int64\n",
      "      ------------------------------------------------------------ \n",
      "\n",
      "**************************************************************************************************** \n",
      "DF_DICT['BREWING_MATERIALS']\n",
      " **************************************************************************************************** \n",
      "\n",
      "\n",
      "\n",
      "data_type            object\n",
      "material_type        object\n",
      "year                  int64\n",
      "month                 int64\n",
      "type                 object\n",
      "month_current         int64\n",
      "month_prior_year      int64\n",
      "ytd_current         float64\n",
      "ytd_prior_year      float64\n",
      "dtype: object\n",
      "\n",
      "      ------------------------------------------------------------ \n",
      "\n",
      "      df_dict['brewing_materials']: earliest = 2008 most recent = 2017\n",
      "      ------------------------------------------------------------ \n",
      "\n",
      "df_dict['brewing_materials'] categorical column data values:\n",
      "\n",
      "\n",
      "\n",
      "df_dict['brewing_materials']['data_type'] values:\n",
      "data_type\n",
      "Pounds of Materials Used    1440\n",
      "Name: count, dtype: int64\n",
      "\n",
      "\n",
      "df_dict['brewing_materials']['material_type'] values:\n",
      "material_type\n",
      "Grain Products              600\n",
      "Non-Grain Products          480\n",
      "Total Grain products        120\n",
      "Total Non-Grain products    120\n",
      "Total Used                  120\n",
      "Name: count, dtype: int64\n",
      "\n",
      "\n",
      "df_dict['brewing_materials']['type'] values:\n",
      "type\n",
      "Malt and malt products        120\n",
      "Corn and corn products        120\n",
      "Rice and rice products        120\n",
      "Barley and barley products    120\n",
      "Wheat and wheat products      120\n",
      "Total Grain products          120\n",
      "Sugar and syrups              120\n",
      "Hops (dry)                    120\n",
      "Hops (used as extracts)       120\n",
      "Other                         120\n",
      "Total Non-Grain products      120\n",
      "Total Used                    120\n",
      "Name: count, dtype: int64\n",
      "      ------------------------------------------------------------ \n",
      "\n",
      "**************************************************************************************************** \n",
      "DF_DICT['BREWING_PRODUCTS']\n",
      " **************************************************************************************************** \n",
      "\n",
      "\n",
      "\n",
      "data_type            object\n",
      "material_type        object\n",
      "year                  int64\n",
      "month                 int64\n",
      "type                 object\n",
      "month_current         int64\n",
      "month_prior_year      int64\n",
      "ytd_current         float64\n",
      "ytd_prior_year      float64\n",
      "dtype: object\n",
      "\n",
      "      ------------------------------------------------------------ \n",
      "\n",
      "      df_dict['brewing_products']: earliest = 2008 most recent = 2017\n",
      "      ------------------------------------------------------------ \n",
      "\n",
      "df_dict['brewing_products'] categorical column data values:\n",
      "\n",
      "\n",
      "\n",
      "df_dict['brewing_products']['data_type'] values:\n",
      "data_type\n",
      "Pounds of Materials Used    1440\n",
      "Name: count, dtype: int64\n",
      "\n",
      "\n",
      "df_dict['brewing_products']['material_type'] values:\n",
      "material_type\n",
      "Grain Products              600\n",
      "Non-Grain Products          480\n",
      "Total Grain products        120\n",
      "Total Non-Grain products    120\n",
      "Total Used                  120\n",
      "Name: count, dtype: int64\n",
      "\n",
      "\n",
      "df_dict['brewing_products']['type'] values:\n",
      "type\n",
      "Malt and malt products        120\n",
      "Corn and corn products        120\n",
      "Rice and rice products        120\n",
      "Barley and barley products    120\n",
      "Wheat and wheat products      120\n",
      "Total Grain products          120\n",
      "Sugar and syrups              120\n",
      "Hops (dry)                    120\n",
      "Hops (used as extracts)       120\n",
      "Other                         120\n",
      "Total Non-Grain products      120\n",
      "Total Used                    120\n",
      "Name: count, dtype: int64\n",
      "      ------------------------------------------------------------ \n",
      "\n"
     ]
    }
   ],
   "source": [
    "# Getting more info on each df\n",
    "\n",
    "# Function to print column data types\n",
    "def df_dtypes(name, df):\n",
    "    print(f\"\\n{df.dtypes}\\n\",)\n",
    "\n",
    "# Function to print categorical column data values\n",
    "def df_cat_values(name, df):\n",
    "    for column in df.select_dtypes(['object']).columns:\n",
    "        print(f\"\\n\\ndf_dict['{name}']['{column}'] values:\")\n",
    "        print(df[column].value_counts(dropna=False))\n",
    "    \n",
    "# Function to print first 3 lines\n",
    "def head3(name, df):\n",
    "    print(f\"\\n{df.head(3)}\\n\",)\n",
    "\n",
    "# Run each df\n",
    "\n",
    "for k,v in df_dict.items():\n",
    "    print(\"*\"*100,f\"\\ndf_dict['{k}']\\n\".upper(),\"*\"*100,\"\\n\\n\")\n",
    "    # get column data types\n",
    "    df_dtypes(k,v)\n",
    "    print(\" \"*5,\"-\"*60,'\\n')\n",
    "    # sort by year to get earliest and latest for each df\n",
    "    v.sort_values(by='year', inplace=True, kind='mergesort', ignore_index=True)\n",
    "    # print earliest and latest year\n",
    "    df_year = [x for x in v['year']]\n",
    "    print(\" \"*5,f\"df_dict['{k}']: earliest = {df_year[0]} most recent = {df_year[-1]}\")\n",
    "    print(\" \"*5,\"-\"*60,'\\n')\n",
    "    print(f\"df_dict['{k}'] categorical column data values:\\n\")\n",
    "    df_cat_values(k,v)\n",
    "    print(\" \"*5,\"-\"*60,'\\n')\n",
    "    # head3(k,v)\n",
    "\n"
   ]
  },
  {
   "cell_type": "markdown",
   "metadata": {},
   "source": [
    "##### Reviewing the csv files, brewing_materials.csv and brewing_products.csv looked like the same data. Checking to see if so."
   ]
  },
  {
   "cell_type": "code",
   "execution_count": 305,
   "metadata": {},
   "outputs": [
    {
     "name": "stdout",
     "output_type": "stream",
     "text": [
      "Are the brewing_materials.csv and brewing_products.csv the \n",
      "same dataset with different names?:  True.\n"
     ]
    }
   ],
   "source": [
    "print(f\"Are the brewing_materials.csv and brewing_products.csv the \\nsame dataset with different names?:  {df_dict['brewing_products'].equals(df_dict['brewing_materials'])}.\")"
   ]
  },
  {
   "cell_type": "markdown",
   "metadata": {},
   "source": [
    "##### Dropping duplicate dataframe.\n"
   ]
  },
  {
   "cell_type": "code",
   "execution_count": 306,
   "metadata": {},
   "outputs": [
    {
     "data": {
      "text/html": [
       "<div>\n",
       "<style scoped>\n",
       "    .dataframe tbody tr th:only-of-type {\n",
       "        vertical-align: middle;\n",
       "    }\n",
       "\n",
       "    .dataframe tbody tr th {\n",
       "        vertical-align: top;\n",
       "    }\n",
       "\n",
       "    .dataframe thead th {\n",
       "        text-align: right;\n",
       "    }\n",
       "</style>\n",
       "<table border=\"1\" class=\"dataframe\">\n",
       "  <thead>\n",
       "    <tr style=\"text-align: right;\">\n",
       "      <th></th>\n",
       "      <th>data_type</th>\n",
       "      <th>material_type</th>\n",
       "      <th>year</th>\n",
       "      <th>month</th>\n",
       "      <th>type</th>\n",
       "      <th>month_current</th>\n",
       "      <th>month_prior_year</th>\n",
       "      <th>ytd_current</th>\n",
       "      <th>ytd_prior_year</th>\n",
       "    </tr>\n",
       "  </thead>\n",
       "  <tbody>\n",
       "    <tr>\n",
       "      <th>0</th>\n",
       "      <td>Pounds of Materials Used</td>\n",
       "      <td>Grain Products</td>\n",
       "      <td>2008</td>\n",
       "      <td>1</td>\n",
       "      <td>Malt and malt products</td>\n",
       "      <td>374165152</td>\n",
       "      <td>365300134</td>\n",
       "      <td>374165152.0</td>\n",
       "      <td>365300134.0</td>\n",
       "    </tr>\n",
       "    <tr>\n",
       "      <th>1</th>\n",
       "      <td>Pounds of Materials Used</td>\n",
       "      <td>Grain Products</td>\n",
       "      <td>2008</td>\n",
       "      <td>1</td>\n",
       "      <td>Corn and corn products</td>\n",
       "      <td>57563519</td>\n",
       "      <td>41647092</td>\n",
       "      <td>57563519.0</td>\n",
       "      <td>41647092.0</td>\n",
       "    </tr>\n",
       "    <tr>\n",
       "      <th>2</th>\n",
       "      <td>Pounds of Materials Used</td>\n",
       "      <td>Grain Products</td>\n",
       "      <td>2008</td>\n",
       "      <td>1</td>\n",
       "      <td>Rice and rice products</td>\n",
       "      <td>72402143</td>\n",
       "      <td>81050102</td>\n",
       "      <td>72402143.0</td>\n",
       "      <td>81050102.0</td>\n",
       "    </tr>\n",
       "    <tr>\n",
       "      <th>3</th>\n",
       "      <td>Pounds of Materials Used</td>\n",
       "      <td>Grain Products</td>\n",
       "      <td>2008</td>\n",
       "      <td>1</td>\n",
       "      <td>Barley and barley products</td>\n",
       "      <td>3800844</td>\n",
       "      <td>2362162</td>\n",
       "      <td>3800844.0</td>\n",
       "      <td>2362162.0</td>\n",
       "    </tr>\n",
       "    <tr>\n",
       "      <th>4</th>\n",
       "      <td>Pounds of Materials Used</td>\n",
       "      <td>Grain Products</td>\n",
       "      <td>2008</td>\n",
       "      <td>1</td>\n",
       "      <td>Wheat and wheat products</td>\n",
       "      <td>1177186</td>\n",
       "      <td>1195381</td>\n",
       "      <td>1177186.0</td>\n",
       "      <td>1195381.0</td>\n",
       "    </tr>\n",
       "    <tr>\n",
       "      <th>...</th>\n",
       "      <td>...</td>\n",
       "      <td>...</td>\n",
       "      <td>...</td>\n",
       "      <td>...</td>\n",
       "      <td>...</td>\n",
       "      <td>...</td>\n",
       "      <td>...</td>\n",
       "      <td>...</td>\n",
       "      <td>...</td>\n",
       "    </tr>\n",
       "    <tr>\n",
       "      <th>1435</th>\n",
       "      <td>Pounds of Materials Used</td>\n",
       "      <td>Non-Grain Products</td>\n",
       "      <td>2017</td>\n",
       "      <td>12</td>\n",
       "      <td>Hops (dry)</td>\n",
       "      <td>1453024</td>\n",
       "      <td>3040143</td>\n",
       "      <td>NaN</td>\n",
       "      <td>NaN</td>\n",
       "    </tr>\n",
       "    <tr>\n",
       "      <th>1436</th>\n",
       "      <td>Pounds of Materials Used</td>\n",
       "      <td>Non-Grain Products</td>\n",
       "      <td>2017</td>\n",
       "      <td>12</td>\n",
       "      <td>Hops (used as extracts)</td>\n",
       "      <td>2117</td>\n",
       "      <td>29141</td>\n",
       "      <td>NaN</td>\n",
       "      <td>NaN</td>\n",
       "    </tr>\n",
       "    <tr>\n",
       "      <th>1437</th>\n",
       "      <td>Pounds of Materials Used</td>\n",
       "      <td>Non-Grain Products</td>\n",
       "      <td>2017</td>\n",
       "      <td>12</td>\n",
       "      <td>Other</td>\n",
       "      <td>657306</td>\n",
       "      <td>4048091</td>\n",
       "      <td>NaN</td>\n",
       "      <td>NaN</td>\n",
       "    </tr>\n",
       "    <tr>\n",
       "      <th>1438</th>\n",
       "      <td>Pounds of Materials Used</td>\n",
       "      <td>Total Non-Grain products</td>\n",
       "      <td>2017</td>\n",
       "      <td>12</td>\n",
       "      <td>Total Non-Grain products</td>\n",
       "      <td>2148660</td>\n",
       "      <td>7759483</td>\n",
       "      <td>NaN</td>\n",
       "      <td>NaN</td>\n",
       "    </tr>\n",
       "    <tr>\n",
       "      <th>1439</th>\n",
       "      <td>Pounds of Materials Used</td>\n",
       "      <td>Total Used</td>\n",
       "      <td>2017</td>\n",
       "      <td>12</td>\n",
       "      <td>Total Used</td>\n",
       "      <td>16027407</td>\n",
       "      <td>130675938</td>\n",
       "      <td>NaN</td>\n",
       "      <td>NaN</td>\n",
       "    </tr>\n",
       "  </tbody>\n",
       "</table>\n",
       "<p>1440 rows × 9 columns</p>\n",
       "</div>"
      ],
      "text/plain": [
       "                     data_type             material_type  year  month  \\\n",
       "0     Pounds of Materials Used            Grain Products  2008      1   \n",
       "1     Pounds of Materials Used            Grain Products  2008      1   \n",
       "2     Pounds of Materials Used            Grain Products  2008      1   \n",
       "3     Pounds of Materials Used            Grain Products  2008      1   \n",
       "4     Pounds of Materials Used            Grain Products  2008      1   \n",
       "...                        ...                       ...   ...    ...   \n",
       "1435  Pounds of Materials Used        Non-Grain Products  2017     12   \n",
       "1436  Pounds of Materials Used        Non-Grain Products  2017     12   \n",
       "1437  Pounds of Materials Used        Non-Grain Products  2017     12   \n",
       "1438  Pounds of Materials Used  Total Non-Grain products  2017     12   \n",
       "1439  Pounds of Materials Used                Total Used  2017     12   \n",
       "\n",
       "                            type  month_current  month_prior_year  \\\n",
       "0         Malt and malt products      374165152         365300134   \n",
       "1         Corn and corn products       57563519          41647092   \n",
       "2         Rice and rice products       72402143          81050102   \n",
       "3     Barley and barley products        3800844           2362162   \n",
       "4       Wheat and wheat products        1177186           1195381   \n",
       "...                          ...            ...               ...   \n",
       "1435                  Hops (dry)        1453024           3040143   \n",
       "1436     Hops (used as extracts)           2117             29141   \n",
       "1437                       Other         657306           4048091   \n",
       "1438    Total Non-Grain products        2148660           7759483   \n",
       "1439                  Total Used       16027407         130675938   \n",
       "\n",
       "      ytd_current  ytd_prior_year  \n",
       "0     374165152.0     365300134.0  \n",
       "1      57563519.0      41647092.0  \n",
       "2      72402143.0      81050102.0  \n",
       "3       3800844.0       2362162.0  \n",
       "4       1177186.0       1195381.0  \n",
       "...           ...             ...  \n",
       "1435          NaN             NaN  \n",
       "1436          NaN             NaN  \n",
       "1437          NaN             NaN  \n",
       "1438          NaN             NaN  \n",
       "1439          NaN             NaN  \n",
       "\n",
       "[1440 rows x 9 columns]"
      ]
     },
     "execution_count": 306,
     "metadata": {},
     "output_type": "execute_result"
    }
   ],
   "source": [
    "df_dict.pop(\"brewing_products\")"
   ]
  },
  {
   "cell_type": "markdown",
   "metadata": {},
   "source": [
    "##### First we will look at null Values in each df. "
   ]
  },
  {
   "cell_type": "code",
   "execution_count": 307,
   "metadata": {},
   "outputs": [
    {
     "name": "stdout",
     "output_type": "stream",
     "text": [
      "beer_taxed.csv:\n",
      " ____________________________________________________________________________________________________ \n",
      "data_type            0\n",
      "tax_status           0\n",
      "year                 0\n",
      "month                0\n",
      "type                 0\n",
      "month_current        0\n",
      "month_prior_year     0\n",
      "ytd_current         24\n",
      "ytd_prior_year      24\n",
      "tax_rate             0\n",
      "dtype: int64\n",
      " ____________________________________________________________________________________________________ \n",
      "\n",
      "\n",
      "beer_states.csv:\n",
      " ____________________________________________________________________________________________________ \n",
      "state       0\n",
      "year        0\n",
      "barrels    19\n",
      "type        0\n",
      "dtype: int64\n",
      " ____________________________________________________________________________________________________ \n",
      "\n",
      "\n",
      "brewer_size.csv:\n",
      " ____________________________________________________________________________________________________ \n",
      "year                0\n",
      "brewer_size         0\n",
      "n_of_brewers        0\n",
      "total_barrels       1\n",
      "taxable_removals    0\n",
      "total_shipped       2\n",
      "dtype: int64\n",
      " ____________________________________________________________________________________________________ \n",
      "\n",
      "\n",
      "brewing_materials.csv:\n",
      " ____________________________________________________________________________________________________ \n",
      "data_type             0\n",
      "material_type         0\n",
      "year                  0\n",
      "month                 0\n",
      "type                  0\n",
      "month_current         0\n",
      "month_prior_year      0\n",
      "ytd_current         432\n",
      "ytd_prior_year      432\n",
      "dtype: int64\n",
      " ____________________________________________________________________________________________________ \n",
      "\n",
      "\n"
     ]
    }
   ],
   "source": [
    "# Create function to look at each df for null values\n",
    "def nullsums(d):\n",
    "    for name, df in d.items():\n",
    "        print(name+\".csv:\\n\",\"_\"*100,f\"\\n{df.isnull().sum()}\\n\",\"_\"*100,\"\\n\\n\")\n",
    "\n",
    "# Run each df\n",
    "\n",
    "nullsums(df_dict)"
   ]
  },
  {
   "cell_type": "markdown",
   "metadata": {},
   "source": [
    "##### There are constant columns as we saw above. They do not bring value to the visualization so they are drop from the datasets "
   ]
  },
  {
   "cell_type": "code",
   "execution_count": 308,
   "metadata": {},
   "outputs": [
    {
     "name": "stdout",
     "output_type": "stream",
     "text": [
      "Columns after removing 'data_type' constant columns \n",
      " [Index(['tax_status', 'year', 'month', 'type', 'month_current',\n",
      "       'month_prior_year', 'ytd_current', 'ytd_prior_year', 'tax_rate'],\n",
      "      dtype='object')]\n",
      "Columns after removing 'data_type' constant columns \n",
      " [Index(['material_type', 'year', 'month', 'type', 'month_current',\n",
      "       'month_prior_year', 'ytd_current', 'ytd_prior_year'],\n",
      "      dtype='object')]\n"
     ]
    }
   ],
   "source": [
    "# Dropping beer_taxed_df['data_type'] which only says 'Barrels Produced'. brewing_materials df_dict['brewing_materials']\n",
    "df_dict['beer_taxed'] = df_dict['beer_taxed'].drop(\"data_type\", axis='columns')\n",
    "print(\"Columns after removing 'data_type' constant columns\",'\\n',[df_dict['beer_taxed'].columns])\n",
    "\n",
    "# Dropping brewing_materials_df['data_type'] which only says 'Pounds of Materials Used'.\n",
    "df_dict['brewing_materials'] = df_dict['brewing_materials'].drop(\"data_type\", axis='columns')\n",
    "print(\"Columns after removing 'data_type' constant columns\",'\\n',[df_dict['brewing_materials'].columns])"
   ]
  },
  {
   "cell_type": "markdown",
   "metadata": {},
   "source": [
    "##### The null values appear in the 'Year To Date' cumulative type columns for the beer_taxed.csv and brewing_materials.csv dataframes. The data we will use to make the visualizations is the current year, non-cumulative type data in order to be able to present information at different hierarchy levels through aggregations. Therefore, 'Prior Year' or 'Year To Date' cumulative type columns are not going to be used in the graphs and can safely be removed from the dataframes. \n"
   ]
  },
  {
   "cell_type": "code",
   "execution_count": 309,
   "metadata": {},
   "outputs": [
    {
     "name": "stdout",
     "output_type": "stream",
     "text": [
      "**************************************************************************************************** \n",
      "\n",
      "\n",
      "beer_taxed.csv:\n",
      " ____________________________________________________________________________________________________\n",
      "Columns before removing 'ytd' & 'prior' columns \n",
      " [Index(['tax_status', 'year', 'month', 'type', 'month_current',\n",
      "       'month_prior_year', 'ytd_current', 'ytd_prior_year', 'tax_rate'],\n",
      "      dtype='object')]\n",
      "Columns after removing 'ytd' & 'prior' columns \n",
      " [Index(['tax_status', 'year', 'month', 'type', 'month_current', 'tax_rate'], dtype='object')]\n",
      "**************************************************************************************************** \n",
      "\n",
      "\n",
      "beer_states.csv:\n",
      " ____________________________________________________________________________________________________\n",
      "Columns before removing 'ytd' & 'prior' columns \n",
      " [Index(['state', 'year', 'barrels', 'type'], dtype='object')]\n",
      "Columns after removing 'ytd' & 'prior' columns \n",
      " [Index(['state', 'year', 'barrels', 'type'], dtype='object')]\n",
      "**************************************************************************************************** \n",
      "\n",
      "\n",
      "brewer_size.csv:\n",
      " ____________________________________________________________________________________________________\n",
      "Columns before removing 'ytd' & 'prior' columns \n",
      " [Index(['year', 'brewer_size', 'n_of_brewers', 'total_barrels',\n",
      "       'taxable_removals', 'total_shipped'],\n",
      "      dtype='object')]\n",
      "Columns after removing 'ytd' & 'prior' columns \n",
      " [Index(['year', 'brewer_size', 'n_of_brewers', 'total_barrels',\n",
      "       'taxable_removals', 'total_shipped'],\n",
      "      dtype='object')]\n",
      "**************************************************************************************************** \n",
      "\n",
      "\n",
      "brewing_materials.csv:\n",
      " ____________________________________________________________________________________________________\n",
      "Columns before removing 'ytd' & 'prior' columns \n",
      " [Index(['material_type', 'year', 'month', 'type', 'month_current',\n",
      "       'month_prior_year', 'ytd_current', 'ytd_prior_year'],\n",
      "      dtype='object')]\n",
      "Columns after removing 'ytd' & 'prior' columns \n",
      " [Index(['material_type', 'year', 'month', 'type', 'month_current'], dtype='object')]\n",
      "**************************************************************************************************** \n",
      "\n",
      "\n"
     ]
    }
   ],
   "source": [
    "# Create function to look at each df and drop cumulative type columns\n",
    "print('*'*100,'\\n\\n')\n",
    "def drop_ytd_prior_col(d):\n",
    "    for name, df in d.items():\n",
    "        # print csv dataset\n",
    "        print(f\"{name}.csv:\\n\",\"_\"*100)\n",
    "        # print Original columns \n",
    "        print(\"Columns before removing 'ytd' & 'prior' columns\",'\\n',[df.columns])\n",
    "        # Remove columns with 'ytd' or 'prior'\n",
    "        df = df.filter(regex='^(?!.*ytd).*$', axis=1)\n",
    "        df = df.filter(regex='^(?!.*prior).*$', axis=1)\n",
    "        d[name] = df\n",
    "        # print columns after\n",
    "        print(\"Columns after removing 'ytd' & 'prior' columns\",'\\n',[df.columns])\n",
    "        print('*'*100,'\\n\\n')\n",
    "\n",
    "# Run each df\n",
    "\n",
    "drop_ytd_prior_col(df_dict)"
   ]
  },
  {
   "cell_type": "markdown",
   "metadata": {},
   "source": [
    "##### Lets look at the other column cases of null values to see in closer detail what we are dealing with.  "
   ]
  },
  {
   "cell_type": "code",
   "execution_count": 310,
   "metadata": {},
   "outputs": [
    {
     "name": "stdout",
     "output_type": "stream",
     "text": [
      "beer_taxed.csv:\n",
      " ____________________________________________________________________________________________________\n",
      "beer_states.csv:\n",
      " ____________________________________________________________________________________________________\n",
      "beer_states_df['barrels'] nulls:\n",
      "     state  year  barrels              type\n",
      "25     MS  2008      NaN       On Premises\n",
      "53     AL  2008      NaN  Bottles and Cans\n",
      "80     ND  2008      NaN  Bottles and Cans\n",
      "93     SD  2008      NaN  Bottles and Cans\n",
      "111    DC  2008      NaN  Kegs and Barrels\n",
      "132    ND  2008      NaN  Kegs and Barrels\n",
      "209    AL  2009      NaN  Bottles and Cans\n",
      "236    ND  2009      NaN  Bottles and Cans\n",
      "249    SD  2009      NaN  Bottles and Cans\n",
      "267    DC  2009      NaN  Kegs and Barrels\n",
      "288    ND  2009      NaN  Kegs and Barrels\n",
      "365    AL  2010      NaN  Bottles and Cans\n",
      "392    ND  2010      NaN  Bottles and Cans\n",
      "423    DC  2010      NaN  Kegs and Barrels\n",
      "444    ND  2010      NaN  Kegs and Barrels\n",
      "548    ND  2011      NaN  Bottles and Cans\n",
      "600    ND  2011      NaN  Kegs and Barrels\n",
      "704    ND  2012      NaN  Bottles and Cans\n",
      "756    ND  2012      NaN  Kegs and Barrels\n",
      "brewer_size.csv:\n",
      " ____________________________________________________________________________________________________\n",
      "brewer_size_df['total_barrels'] nulls:\n",
      "      year     brewer_size  n_of_brewers  total_barrels  taxable_removals  \\\n",
      "135  2019  Under 1 Barrel           174            NaN         114960.27   \n",
      "\n",
      "     total_shipped  \n",
      "135          185.0  \n",
      "brewer_size_df['total_shipped'] nulls:\n",
      "      year     brewer_size  n_of_brewers  total_barrels  taxable_removals  \\\n",
      "82   2015    Zero Barrels           476            0.0          87811.22   \n",
      "134  2019  Under 1 Barrel            28           18.3          19432.26   \n",
      "\n",
      "     total_shipped  \n",
      "82             NaN  \n",
      "134            NaN  \n",
      "brewing_materials.csv:\n",
      " ____________________________________________________________________________________________________\n"
     ]
    }
   ],
   "source": [
    "# Create function to look at each for null values\n",
    "def nullrows(d):\n",
    "    for name, df in d.items():\n",
    "        print(f\"{name}.csv:\\n\",\"_\"*100)\n",
    "        for c in df.columns:\n",
    "            if df[c].isnull().sum() > 0:\n",
    "                print(f\"{name}_df['{c}'] nulls:\\n {df[df[c].isnull()]}\")\n",
    "\n",
    "# Run each df\n",
    "\n",
    "nullrows(df_dict)"
   ]
  },
  {
   "cell_type": "markdown",
   "metadata": {},
   "source": [
    "##### For the beer_states_df['barrels'] with null values we are using the scikit-learn KNNImputer (for neighbours = 3) to impute the 'barrels' column null values. First though, we will need to make sure that if there are any row subtotals, they are removed before training the model. "
   ]
  },
  {
   "cell_type": "code",
   "execution_count": 311,
   "metadata": {},
   "outputs": [],
   "source": [
    "# Remove any subtotal rows \n",
    "df_dict['beer_states'] = df_dict['beer_states'][~df_dict['beer_states']['state'].astype(str).str.contains('total', case=False)]\n",
    "\n",
    "# KNNImputer with neighbors=3\n",
    "knn_imputer = KNNImputer(n_neighbors=3)\n",
    "\n",
    "# fill the missing values in the 'barrels' column\n",
    "df_dict['beer_states']['barrels'] = knn_imputer.fit_transform(df_dict['beer_states'][['barrels']])\n",
    "\n"
   ]
  },
  {
   "cell_type": "markdown",
   "metadata": {},
   "source": [
    "##### For the df 'brewer_size' column 'total_barrels', one null value we are using the mean of the 'Under 1 Barrel' category.\n"
   ]
  },
  {
   "cell_type": "code",
   "execution_count": 312,
   "metadata": {},
   "outputs": [
    {
     "name": "stdout",
     "output_type": "stream",
     "text": [
      "The mean of the 'total_barrels' where 'brewer_size' column rows equal 'Under 1 Barrel', excluding where 'total_barrels' is null = 8.13\n"
     ]
    }
   ],
   "source": [
    "print(f\"The mean of the 'total_barrels' where 'brewer_size' column rows equal 'Under 1 Barrel', excluding where 'total_barrels' is null = {round(df_dict['brewer_size'].loc[df_dict['brewer_size']['brewer_size'] == 'Under 1 Barrel', 'total_barrels'].dropna().mean(),2)}\")\n"
   ]
  },
  {
   "cell_type": "code",
   "execution_count": 313,
   "metadata": {},
   "outputs": [
    {
     "name": "stdout",
     "output_type": "stream",
     "text": [
      "df nulls:\n",
      " Empty DataFrame\n",
      "Columns: [year, brewer_size, n_of_brewers, total_barrels, taxable_removals, total_shipped]\n",
      "Index: [] --------------------------------------------------\n",
      "year                          2019\n",
      "brewer_size         Under 1 Barrel\n",
      "n_of_brewers                   174\n",
      "total_barrels                 8.13\n",
      "taxable_removals         114960.27\n",
      "total_shipped                185.0\n",
      "Name: 135, dtype: object\n"
     ]
    }
   ],
   "source": [
    "# Replacing one null value in  df_dict['brewer_size']['total_barrels']\n",
    "df_dict['brewer_size']['total_barrels'] = df_dict['brewer_size']['total_barrels'].fillna(round(df_dict['brewer_size'].loc[df_dict['brewer_size']['brewer_size'] == 'Under 1 Barrel', 'total_barrels'].dropna().mean(),2))\n",
    "print(f\"df nulls:\\n {df_dict['brewer_size'][df_dict['brewer_size']['total_barrels'].isnull()]}\",'-'*50)\n",
    "print(df_dict['brewer_size'].loc[135])"
   ]
  },
  {
   "cell_type": "markdown",
   "metadata": {},
   "source": [
    "##### For the df 'brewer_size' column 'total_shipped' with null values, rows 82 & 134, we are using the mean as well.    "
   ]
  },
  {
   "cell_type": "code",
   "execution_count": 314,
   "metadata": {},
   "outputs": [
    {
     "name": "stdout",
     "output_type": "stream",
     "text": [
      "The mean of the 'total_shipped' where 'brewer_size' column rows equal 'Zero Barrels', excluding where 'total_shipped' is null = nan\n",
      "The mean of the 'total_shipped' where 'brewer_size' column rows equal 'Under 1 Barrel', excluding where 'total_shipped' is null = 336.4\n"
     ]
    }
   ],
   "source": [
    "print(f\"The mean of the 'total_shipped' where 'brewer_size' column rows equal 'Zero Barrels', excluding where 'total_shipped' is null = {round(df_dict['brewer_size'].loc[df_dict['brewer_size']['brewer_size'] == 'Zero Barrels', 'total_shipped'].dropna().mean(),2)}\")\n",
    "\n",
    "print(f\"The mean of the 'total_shipped' where 'brewer_size' column rows equal 'Under 1 Barrel', excluding where 'total_shipped' is null = {round(df_dict['brewer_size'].loc[df_dict['brewer_size']['brewer_size'] == 'Under 1 Barrel', 'total_shipped'].dropna().mean(),2)}\")"
   ]
  },
  {
   "cell_type": "markdown",
   "metadata": {},
   "source": [
    "##### 'Zero Barrels' returned a NaN value. If that is the only row across the years, we will use zero as probably expected for the 'Zero Barrels' category. "
   ]
  },
  {
   "cell_type": "code",
   "execution_count": 315,
   "metadata": {},
   "outputs": [
    {
     "data": {
      "text/html": [
       "<div>\n",
       "<style scoped>\n",
       "    .dataframe tbody tr th:only-of-type {\n",
       "        vertical-align: middle;\n",
       "    }\n",
       "\n",
       "    .dataframe tbody tr th {\n",
       "        vertical-align: top;\n",
       "    }\n",
       "\n",
       "    .dataframe thead th {\n",
       "        text-align: right;\n",
       "    }\n",
       "</style>\n",
       "<table border=\"1\" class=\"dataframe\">\n",
       "  <thead>\n",
       "    <tr style=\"text-align: right;\">\n",
       "      <th></th>\n",
       "      <th>year</th>\n",
       "      <th>brewer_size</th>\n",
       "      <th>n_of_brewers</th>\n",
       "      <th>total_barrels</th>\n",
       "      <th>taxable_removals</th>\n",
       "      <th>total_shipped</th>\n",
       "    </tr>\n",
       "  </thead>\n",
       "  <tbody>\n",
       "    <tr>\n",
       "      <th>82</th>\n",
       "      <td>2015</td>\n",
       "      <td>Zero Barrels</td>\n",
       "      <td>476</td>\n",
       "      <td>0.0</td>\n",
       "      <td>87811.22</td>\n",
       "      <td>NaN</td>\n",
       "    </tr>\n",
       "  </tbody>\n",
       "</table>\n",
       "</div>"
      ],
      "text/plain": [
       "    year   brewer_size  n_of_brewers  total_barrels  taxable_removals  \\\n",
       "82  2015  Zero Barrels           476            0.0          87811.22   \n",
       "\n",
       "    total_shipped  \n",
       "82            NaN  "
      ]
     },
     "execution_count": 315,
     "metadata": {},
     "output_type": "execute_result"
    }
   ],
   "source": [
    "df_dict['brewer_size'].loc[df_dict['brewer_size']['brewer_size'] == 'Zero Barrels']"
   ]
  },
  {
   "cell_type": "markdown",
   "metadata": {},
   "source": [
    "##### Replacing one null value in df 'brewer_size' column 'total_shipped' in the 'brewer_size' category 'Zero Barrels'. Then checking all null values are taken care off.   "
   ]
  },
  {
   "cell_type": "code",
   "execution_count": 316,
   "metadata": {},
   "outputs": [
    {
     "name": "stdout",
     "output_type": "stream",
     "text": [
      "df nulls:\n",
      " Empty DataFrame\n",
      "Columns: [year, brewer_size, n_of_brewers, total_barrels, taxable_removals, total_shipped]\n",
      "Index: [] \n",
      " --------------------------------------------------\n",
      "year                        2015\n",
      "brewer_size         Zero Barrels\n",
      "n_of_brewers                 476\n",
      "total_barrels                0.0\n",
      "taxable_removals        87811.22\n",
      "total_shipped                0.0\n",
      "Name: 82, dtype: object \n",
      " ^^^^^^^^^^^^^^^^^^^^^^^^^^^^^^^^^^^^^^^^^^^^^^^^^^\n",
      "year                          2019\n",
      "brewer_size         Under 1 Barrel\n",
      "n_of_brewers                    28\n",
      "total_barrels                 18.3\n",
      "taxable_removals          19432.26\n",
      "total_shipped                336.4\n",
      "Name: 134, dtype: object\n",
      "^^^^^^^^^^^^^^^^^^^^^^^^^^^^^^^^^^^^^^^^^^^^^^^^^^ \n",
      "LOOK AT ANY NULL VALUES LEFT ANYWHERE \n",
      "\n",
      "beer_taxed.csv:\n",
      " ____________________________________________________________________________________________________\n",
      "beer_states.csv:\n",
      " ____________________________________________________________________________________________________\n",
      "brewer_size.csv:\n",
      " ____________________________________________________________________________________________________\n",
      "brewing_materials.csv:\n",
      " ____________________________________________________________________________________________________\n"
     ]
    }
   ],
   "source": [
    "# Replacing one null value in  df_dict['brewer_size']['total_shipped']\n",
    "\n",
    "df_dict['brewer_size'].iloc[82, 5] = 0\n",
    "\n",
    "df_dict['brewer_size'].iloc[134, 5] = round(df_dict['brewer_size'].loc[df_dict['brewer_size']['brewer_size'] == 'Under 1 Barrel', 'total_shipped'].dropna().mean(),2)\n",
    "\n",
    "# Double checking for nulls in 'total_shipped'\n",
    "print(f\"df nulls:\\n {df_dict['brewer_size'][df_dict['brewer_size']['total_shipped'].isnull()]}\",'\\n','-'*50)\n",
    "print(df_dict['brewer_size'].loc[82],'\\n','^'*50)\n",
    "print(df_dict['brewer_size'].loc[134])\n",
    "\n",
    "# Look at any null values anywhere again\n",
    "print('^'*50,'\\nLook at any null values left anywhere'.upper(),'\\n')\n",
    "nullrows(df_dict)"
   ]
  },
  {
   "cell_type": "markdown",
   "metadata": {},
   "source": [
    "\n",
    "##### It was also observed that there are 'Total' type rows that contain subtotals based on the time period term. To see if nulls are present in the granular data or the subtotals, we will need to look at the rows with null values. As mentioned, the visualizations will use granular data and these subtotals will be removed in order to avoid double counting the data figures. "
   ]
  },
  {
   "cell_type": "code",
   "execution_count": 317,
   "metadata": {},
   "outputs": [
    {
     "name": "stdout",
     "output_type": "stream",
     "text": [
      "******************************************************************************** \n",
      "brewing_materials_df:\n",
      "\n",
      "\n",
      "Rows before removing subtotal rows: 1440\n",
      "\n",
      "\n",
      "sample of subtotal labels in 'material_type' column:\n",
      "\n",
      "5         Total Grain products\n",
      "10    Total Non-Grain products\n",
      "11                  Total Used\n",
      "17        Total Grain products\n",
      "Name: material_type, dtype: object\n",
      "\n",
      "Rows after removing any subtotal rows: 1080\n",
      "\n",
      "******************************************************************************** \n",
      "brewer_size_df:\n",
      "\n",
      "\n",
      "Rows before removing subtotal rows: 137\n",
      "\n",
      "\n",
      "sample of subtotal labels in 'brewer_size' column:\n",
      "\n",
      "11    Total\n",
      "22    Total\n",
      "34    Total\n",
      "46    Total\n",
      "Name: brewer_size, dtype: object\n",
      "\n",
      "Rows after removing any subtotal rows: 126\n",
      "\n",
      "******************************************************************************** \n",
      "beer_states_df:\n",
      "\n",
      "\n",
      "Rows before removing subtotal rows: 1836\n",
      "\n",
      "\n",
      "Rows after removing any subtotal rows: 1836\n",
      "\n",
      "******************************************************************************** \n",
      "beer_taxed_df:\n",
      "\n",
      "\n",
      "Rows before removing subtotal rows: 1580\n",
      "\n",
      "\n",
      "sample of subtotal labels in 'tax_status' column:\n",
      "\n",
      "0                Totals\n",
      "4     Sub Total Taxable\n",
      "8    Sub Total Tax-Free\n",
      "9                Totals\n",
      "Name: tax_status, dtype: object\n",
      "\n",
      "Rows after removing any subtotal rows: 860\n",
      "\n"
     ]
    }
   ],
   "source": [
    "#  look at each df and drop cumulative type rows  df_dict['brewing_materials']\n",
    "       \n",
    "# brewing_materials_df\n",
    "# print csv dataset\n",
    "print('*'*80,\"\\nbrewing_materials_df:\\n\")\n",
    "print(f\"\\nRows before removing subtotal rows: {df_dict['brewing_materials'].shape[0]}\\n\")\n",
    "for c in df_dict['brewing_materials'].columns:\n",
    "    if df_dict['brewing_materials'][df_dict['brewing_materials'][c].astype(str).str.contains('total', case=False)].shape[0] > 0:\n",
    "        print(f\"\\nsample of subtotal labels in '{c}' column:\\n\")\n",
    "        print(df_dict['brewing_materials'][df_dict['brewing_materials'][c].astype(str).str.contains('total', case=False)][c].head(4))\n",
    "        df_dict['brewing_materials'] = df_dict['brewing_materials'][~df_dict['brewing_materials'][c].astype(str).str.contains('total', case=False)]            \n",
    "print(f\"\\nRows after removing any subtotal rows: {df_dict['brewing_materials'].shape[0]}\\n\")\n",
    "\n",
    "# brewer_size_df\n",
    "# print csv dataset\n",
    "print('*'*80,\"\\nbrewer_size_df:\\n\")\n",
    "print(f\"\\nRows before removing subtotal rows: {df_dict['brewer_size'].shape[0]}\\n\")\n",
    "for c in df_dict['brewer_size'].columns:\n",
    "    if df_dict['brewer_size'][df_dict['brewer_size'][c].astype(str).str.contains('total', case=False)].shape[0] > 0:\n",
    "        print(f\"\\nsample of subtotal labels in '{c}' column:\\n\")\n",
    "        print(df_dict['brewer_size'][df_dict['brewer_size'][c].astype(str).str.contains('total', case=False)][c].head(4))\n",
    "        df_dict['brewer_size'] = df_dict['brewer_size'][~df_dict['brewer_size'][c].astype(str).str.contains('total', case=False)]            \n",
    "print(f\"\\nRows after removing any subtotal rows: {df_dict['brewer_size'].shape[0]}\\n\")\n",
    "\n",
    "\n",
    "# beer_states_df\n",
    "# print csv dataset\n",
    "print('*'*80,\"\\nbeer_states_df:\\n\")\n",
    "print(f\"\\nRows before removing subtotal rows: {df_dict['beer_states'].shape[0]}\\n\")\n",
    "for c in df_dict['beer_states'].columns:\n",
    "    if df_dict['beer_states'][df_dict['beer_states'][c].astype(str).str.contains('total', case=False)].shape[0] > 0:\n",
    "        print(f\"\\nsample of subtotal labels in '{c}' column:\\n\")\n",
    "        print(df_dict['beer_states'][df_dict['beer_states'][c].astype(str).str.contains('total', case=False)][c].head(4))\n",
    "        df_dict['beer_states'] = df_dict['beer_states'][~df_dict['beer_states'][c].astype(str).str.contains('total', case=False)]            \n",
    "print(f\"\\nRows after removing any subtotal rows: {df_dict['beer_states'].shape[0]}\\n\")\n",
    "\n",
    "\n",
    "# beer_taxed_df\n",
    "# print csv dataset\n",
    "print('*'*80,\"\\nbeer_taxed_df:\\n\")\n",
    "print(f\"\\nRows before removing subtotal rows: {df_dict['beer_taxed'].shape[0]}\\n\")\n",
    "for c in df_dict['beer_taxed'].columns:\n",
    "    if df_dict['beer_taxed'][df_dict['beer_taxed'][c].astype(str).str.contains('total', case=False)].shape[0] > 0:\n",
    "        print(f\"\\nsample of subtotal labels in '{c}' column:\\n\")\n",
    "        print(df_dict['beer_taxed'][df_dict['beer_taxed'][c].astype(str).str.contains('total', case=False)][c].head(4))\n",
    "        df_dict['beer_taxed'] = df_dict['beer_taxed'][~df_dict['beer_taxed'][c].astype(str).str.contains('total', case=False)]            \n",
    "print(f\"\\nRows after removing any subtotal rows: {df_dict['beer_taxed'].shape[0]}\\n\")\n"
   ]
  },
  {
   "cell_type": "markdown",
   "metadata": {},
   "source": [
    "##### There are overlapping row categories for the Brewer size column as we saw above. They would mislead the visualization audience so all the categories between 1,000,000 to 6,000,000 Barrels are combined to the '1,000,000 to 6,000,000 Barrels' row category.\n",
    "\n",
    "##### Also using this opportunity to consolidate some of the other categories. For example, the 'Under 1 Barrel' and 'Zero Barrels' in annual production could both be cases of either breweries that are in planning stages, or breweries that have ceased production. These two are similar special circumstances categories to themselves, so we are consolidating them. The remaining Categories from 1 to 15,000 and 15,001 to 999,999 are set as the last two other categories.\n",
    "\n"
   ]
  },
  {
   "cell_type": "code",
   "execution_count": 318,
   "metadata": {},
   "outputs": [
    {
     "name": "stdout",
     "output_type": "stream",
     "text": [
      "                        brewer_size                    brewer_sizes\n",
      "1    1,000,001 to 6,000,000 Barrels  1,000,000 to 6,000,000 Barrels\n",
      "2      500,001 to 1,000,000 Barrels       15,001 to 999,999 Barrels\n",
      "3        100,001 to 500,000 Barrels       15,001 to 999,999 Barrels\n",
      "4         60,001 to 100,000 Barrels       15,001 to 999,999 Barrels\n",
      "5          30,001 to 60,000 Barrels       15,001 to 999,999 Barrels\n",
      "..                              ...                             ...\n",
      "129        30,001 to 60,000 Barrels       15,001 to 999,999 Barrels\n",
      "130        15,001 to 30,000 Barrels       15,001 to 999,999 Barrels\n",
      "131         7,501 to 15,000 Barrels             1 to 15,000 Barrels\n",
      "132          1,001 to 7,500 Barrels             1 to 15,000 Barrels\n",
      "133              1 to 1,000 Barrels             1 to 15,000 Barrels\n",
      "\n",
      "[108 rows x 2 columns]\n"
     ]
    }
   ],
   "source": [
    "# clean up overlapping category for Brewer size df_dict['brewer_size']\n",
    "rules = [\n",
    "    (df_dict['brewer_size']['brewer_size'].str.contains('6,000,001 Barrels and Over', case=False, flags=0, na=None, regex=False)),\n",
    "    (df_dict['brewer_size']['brewer_size'].str.contains('2,000,000 to 6,000,000 Barrels', case=False, flags=0, na=None, regex=False)),\n",
    "    (df_dict['brewer_size']['brewer_size'].str.contains('1,000,001 to 6,000,000 Barrels', case=False, flags=0, na=None, regex=False)),\n",
    "    (df_dict['brewer_size']['brewer_size'].str.contains('1,000,001 to 1,999,999 Barrels', case=False, flags=0, na=None, regex=False)),\n",
    "    (df_dict['brewer_size']['brewer_size'].str.contains('1,000,000 to 6,000,000 Barrels', case=False, flags=0, na=None, regex=False)),\n",
    "    (df_dict['brewer_size']['brewer_size'].str.contains('500,001 to 1,000,000 Barrels', case=False, flags=0, na=None, regex=False)),\n",
    "    (df_dict['brewer_size']['brewer_size'].str.contains('100,001 to 500,000 Barrels', case=False, flags=0, na=None, regex=False)),\n",
    "    (df_dict['brewer_size']['brewer_size'].str.contains('60,001 to 100,000 Barrels', case=False, flags=0, na=None, regex=False)),\n",
    "    (df_dict['brewer_size']['brewer_size'].str.contains('30,001 to 60,000 Barrels', case=False, flags=0, na=None, regex=False)),\n",
    "    (df_dict['brewer_size']['brewer_size'].str.contains('15,001 to 30,000 Barrels', case=False, flags=0, na=None, regex=False)),\n",
    "    (df_dict['brewer_size']['brewer_size'].str.contains('7,501 to 15,000 Barrels', case=False, flags=0, na=None, regex=False)),\n",
    "    (df_dict['brewer_size']['brewer_size'].str.contains('1,001 to 7,500 Barrels', case=False, flags=0, na=None, regex=False)),\n",
    "    (df_dict['brewer_size']['brewer_size'].str.contains('1 to 1,000 Barrels', case=False, flags=0, na=None, regex=False))\n",
    "]\n",
    "# Choices\n",
    "choices = [\n",
    "    '6,000,001 Barrels and Over',\n",
    "    '1,000,000 to 6,000,000 Barrels',\n",
    "    '1,000,000 to 6,000,000 Barrels',\n",
    "    '1,000,000 to 6,000,000 Barrels',\n",
    "    '1,000,000 to 6,000,000 Barrels',\n",
    "    '15,001 to 999,999 Barrels',\n",
    "    '15,001 to 999,999 Barrels',\n",
    "    '15,001 to 999,999 Barrels',\n",
    "    '15,001 to 999,999 Barrels',\n",
    "    '15,001 to 999,999 Barrels',\n",
    "    '1 to 15,000 Barrels',\n",
    "    '1 to 15,000 Barrels',\n",
    "    '1 to 15,000 Barrels'\n",
    "]\n",
    "# Create new  'brewer_sizes' column\n",
    "df_dict['brewer_size']['brewer_sizes'] = np.select(rules, choices, default='Under 1 Barrel')\n",
    "# Making sure the only differences were to the overlapping categories before assigning to  'brewer_size' column\n",
    "df_diff = df_dict['brewer_size'][df_dict['brewer_size']['brewer_sizes'] != df_dict['brewer_size']['brewer_size']]\n",
    "print(df_diff[['brewer_size','brewer_sizes']])"
   ]
  },
  {
   "cell_type": "markdown",
   "metadata": {},
   "source": [
    "##### Checking the Brewer size categories do not include the ones expected to be absorbed by the ones set above. "
   ]
  },
  {
   "cell_type": "code",
   "execution_count": 319,
   "metadata": {},
   "outputs": [
    {
     "data": {
      "text/plain": [
       "brewer_sizes                    brewer_size                   \n",
       "1 to 15,000 Barrels             1 to 1,000 Barrels                11\n",
       "                                1,001 to 7,500 Barrels            11\n",
       "                                7,501 to 15,000 Barrels           11\n",
       "1,000,000 to 6,000,000 Barrels  1,000,001 to 1,999,999 Barrels     9\n",
       "                                2,000,000 to 6,000,000 Barrels     9\n",
       "                                1,000,000 to 6,000,000 Barrels     1\n",
       "                                1,000,001 to 6,000,000 Barrels     1\n",
       "15,001 to 999,999 Barrels       100,001 to 500,000 Barrels        11\n",
       "                                15,001 to 30,000 Barrels          11\n",
       "                                30,001 to 60,000 Barrels          11\n",
       "                                500,001 to 1,000,000 Barrels      11\n",
       "                                60,001 to 100,000 Barrels         11\n",
       "6,000,001 Barrels and Over      6,000,001 Barrels and Over        11\n",
       "Under 1 Barrel                  Under 1 Barrel                     6\n",
       "                                Zero Barrels                       1\n",
       "Name: count, dtype: int64"
      ]
     },
     "execution_count": 319,
     "metadata": {},
     "output_type": "execute_result"
    }
   ],
   "source": [
    "df_dict['brewer_size'][['brewer_sizes','brewer_size']].groupby(['brewer_sizes']).value_counts()"
   ]
  },
  {
   "cell_type": "markdown",
   "metadata": {},
   "source": [
    "##### Checking the column totals add up correctly before finalizing "
   ]
  },
  {
   "cell_type": "code",
   "execution_count": 320,
   "metadata": {},
   "outputs": [
    {
     "name": "stdout",
     "output_type": "stream",
     "text": [
      "Difference between 'n_of_brewers': 0\n",
      "Difference between 'total_barrels': 0.0\n",
      "Difference between 'taxable_removals': -0.0\n",
      "Difference between 'total_shipped': 0.0\n"
     ]
    }
   ],
   "source": [
    "# Assigning to  'brewer_size' column\n",
    "df_dict['brewer_size']['brewer_size'] = df_dict['brewer_size']['brewer_sizes']\n",
    "\n",
    "# Dropping additional 'brewer_sizes' column\n",
    "df_dict['brewer_size'] = df_dict['brewer_size'].drop(\"brewer_sizes\", axis='columns')\n",
    "\n",
    "# summing the categories by Grouping \n",
    "df_grouped = df_dict['brewer_size'].groupby(['year', 'brewer_size']).sum().reset_index()\n",
    "\n",
    "# Checking to see any difference between Grouped df and original for 'n_of_brewers'\n",
    "n_of_brewers_sum =  round(df_dict['brewer_size']['n_of_brewers'].sum() - df_grouped['n_of_brewers'].sum(),2)\n",
    "\n",
    "# Checking to see any difference between Grouped df and original for 'total_barrels'\n",
    "total_barrels_sum = round(df_dict['brewer_size']['total_barrels'].sum() - df_grouped['total_barrels'].sum(),2)\n",
    "\n",
    "# Checking to see any difference between Grouped df and original for 'taxable_removals'\n",
    "taxable_removals_sum = round(df_dict['brewer_size']['taxable_removals'].sum() - df_grouped['taxable_removals'].sum(),2)\n",
    "\n",
    "# Checking to see any difference between Grouped df and original for 'total_shipped'\n",
    "total_shipped_sum = round(df_dict['brewer_size']['total_shipped'].sum() - df_grouped['total_shipped'].sum(),2)\n",
    "\n",
    "print(f\"Difference between 'n_of_brewers': {n_of_brewers_sum:,}\")\n",
    "print(f\"Difference between 'total_barrels': {total_barrels_sum:,}\")\n",
    "print(f\"Difference between 'taxable_removals': {taxable_removals_sum:,}\")\n",
    "print(f\"Difference between 'total_shipped': {total_shipped_sum:,}\")"
   ]
  },
  {
   "cell_type": "markdown",
   "metadata": {},
   "source": [
    "##### Setting 'brewer_size' dataframe in df dictionary to new categories consolidated version. "
   ]
  },
  {
   "cell_type": "code",
   "execution_count": 321,
   "metadata": {},
   "outputs": [],
   "source": [
    "# Setting 'brewer_size' in df dictionary to new categories version. \n",
    "df_dict['brewer_size'] = df_grouped"
   ]
  },
  {
   "cell_type": "markdown",
   "metadata": {},
   "source": [
    "##### In trying to make a decision whether the 'Under 1 Barrel' (special circumstances) category adds  significant value to the  visualization, we are checking to see how often is the 'Under 1 Barrel' category represented in the dataset by looking at the categories present annually in the dataset ('brewer_size' dataframe in df dictionary). "
   ]
  },
  {
   "cell_type": "code",
   "execution_count": 322,
   "metadata": {},
   "outputs": [
    {
     "data": {
      "text/plain": [
       "brewer_size\n",
       "1 to 15,000 Barrels               11\n",
       "1,000,000 to 6,000,000 Barrels    11\n",
       "15,001 to 999,999 Barrels         11\n",
       "6,000,001 Barrels and Over        11\n",
       "Under 1 Barrel                     6\n",
       "Name: count, dtype: int64"
      ]
     },
     "execution_count": 322,
     "metadata": {},
     "output_type": "execute_result"
    }
   ],
   "source": [
    "# df_dict['brewer_size'][['brewer_size']].groupby(['brewer_size']).value_counts()\n",
    "df_dict['brewer_size']['brewer_size'].value_counts()"
   ]
  },
  {
   "cell_type": "markdown",
   "metadata": {},
   "source": [
    "##### Our focus is not on breweries that are not in production stages, like in the early brewery planning stages or breweries in the final closure stages. Also, this 'Under 1 Barrel' special circumstances category is missing in multiple of the years and so it does not  add  any significant value to the visualization. As such, we are removing the '\"Under 1 Barrel\" category all together below."
   ]
  },
  {
   "cell_type": "code",
   "execution_count": 323,
   "metadata": {},
   "outputs": [
    {
     "name": "stdout",
     "output_type": "stream",
     "text": [
      "******************************************************************************** \n",
      "brewer_size_df:\n",
      "\n",
      "\n",
      "Rows before removing 'Under 1 Barrel' rows: 50\n",
      "\n",
      "\n",
      "sample of 'Under 1 Barrel' labels in 'brewer_size' column:\n",
      "\n",
      "4     Under 1 Barrel\n",
      "29    Under 1 Barrel\n",
      "34    Under 1 Barrel\n",
      "39    Under 1 Barrel\n",
      "Name: brewer_size, dtype: object\n",
      "\n",
      "Rows after removing any 'Under 1 Barrel' rows: 44\n",
      "\n"
     ]
    },
    {
     "data": {
      "text/plain": [
       "brewer_size\n",
       "1 to 15,000 Barrels               11\n",
       "1,000,000 to 6,000,000 Barrels    11\n",
       "15,001 to 999,999 Barrels         11\n",
       "6,000,001 Barrels and Over        11\n",
       "Name: count, dtype: int64"
      ]
     },
     "execution_count": 323,
     "metadata": {},
     "output_type": "execute_result"
    }
   ],
   "source": [
    "# brewer_size_df\"Under 1 Barrel\"\n",
    "# print csv dataset\n",
    "print('*'*80,\"\\nbrewer_size_df:\\n\")\n",
    "print(f\"\\nRows before removing 'Under 1 Barrel' rows: {df_dict['brewer_size'].shape[0]}\\n\")\n",
    "if df_dict['brewer_size'][df_dict['brewer_size']['brewer_size'].astype(str).str.contains('Under 1 Barrel', case=False)].shape[0] > 0:\n",
    "    print(f\"\\nsample of 'Under 1 Barrel' labels in '{'brewer_size'}' column:\\n\")\n",
    "    print(df_dict['brewer_size'][df_dict['brewer_size']['brewer_size'].astype(str).str.contains('Under 1 Barrel', case=False)]['brewer_size'].head(4))\n",
    "    df_dict['brewer_size'] = df_dict['brewer_size'][~df_dict['brewer_size']['brewer_size'].astype(str).str.contains('Under 1 Barrel', case=False)]            \n",
    "print(f\"\\nRows after removing any 'Under 1 Barrel' rows: {df_dict['brewer_size'].shape[0]}\\n\")\n",
    "df_dict['brewer_size']['brewer_size'].value_counts()"
   ]
  },
  {
   "cell_type": "markdown",
   "metadata": {},
   "source": [
    "##### In 'brewing_materials' df, grouping subtotals by 'year' & removing 'month' column.  Also, removing higher subtotal level 'material_type' category."
   ]
  },
  {
   "cell_type": "code",
   "execution_count": 324,
   "metadata": {},
   "outputs": [
    {
     "name": "stdout",
     "output_type": "stream",
     "text": [
      "Difference between 'month_current': 0 \n",
      "\n",
      "\n",
      "   year                        type  month_current\n",
      "0  2008  Barley and barley products       58048335\n",
      "1  2008      Corn and corn products      726766392\n",
      "2  2008                  Hops (dry)       54889519\n",
      "\n",
      "\n",
      "    year                        type  month_current\n",
      "0  2008  Barley and barley products       58048335\n",
      "1  2008      Corn and corn products      726766392\n",
      "2  2008                  Hops (dry)       54889519\n"
     ]
    }
   ],
   "source": [
    "# summing the categories by Grouping \n",
    "df_material_grouped = df_dict[\"brewing_materials\"][['year','type','month_current']].groupby(['year', 'type']).sum().reset_index()\n",
    "print(f\"Difference between 'month_current': {round(df_dict['brewing_materials']['month_current'].sum() - df_material_grouped['month_current'].sum(),2):,}\",'\\n\\n')\n",
    "print(df_material_grouped.head(3))\n",
    "\n",
    "# Setting 'brewing_materials' in df dictionary to new version. \n",
    "df_dict['brewing_materials'] = df_material_grouped\n",
    "\n",
    "print('\\n\\n',df_dict['brewing_materials'].head(3))"
   ]
  },
  {
   "cell_type": "markdown",
   "metadata": {},
   "source": [
    "##### In 'beer_states' df, grouping subtotals by 'year' & removing 'type' column. "
   ]
  },
  {
   "cell_type": "code",
   "execution_count": 325,
   "metadata": {},
   "outputs": [
    {
     "name": "stdout",
     "output_type": "stream",
     "text": [
      "    year                    type  month_current  percentage_change\n",
      "4   2008  Malt and malt products     4497468603               0.00\n",
      "13  2009  Malt and malt products     4298874888              -4.42\n",
      "22  2010  Malt and malt products     4146613431              -3.54\n",
      "31  2011  Malt and malt products     4003433125              -3.45\n",
      "40  2012  Malt and malt products     4099141038               2.39\n",
      "49  2013  Malt and malt products     3939110211              -3.90\n",
      "58  2014  Malt and malt products     3790022536              -3.78\n",
      "67  2015  Malt and malt products     3669211565              -3.19\n",
      "76  2016  Malt and malt products      141013476             -96.16\n",
      "85  2017  Malt and malt products      112425009             -20.27\n",
      "Difference between 'brewing_materials': 0\n"
     ]
    }
   ],
   "source": [
    "# Add percentage_change to df_dict['brewing_materials']\n",
    "df_material_percentage = df_dict['brewing_materials'].sort_values(by=['type', 'year'])\n",
    "\n",
    "\n",
    "df_material_percentage['percentage_change'] = df_material_percentage.groupby('type')['month_current'].pct_change()\n",
    "\n",
    "# Convert the percentage change values to percentage format\n",
    "df_material_percentage['percentage_change'] = round(df_material_percentage['percentage_change'].fillna(0) * 100,2)\n",
    "\n",
    "print(df_material_percentage[df_material_percentage['type'] == 'Malt and malt products'].head(10))\n",
    "\n",
    "print(f\"Difference between 'brewing_materials': {round(df_dict['brewing_materials']['month_current'].sum() - df_material_percentage['month_current'].sum(),2):,}\")\n",
    "\n",
    "\n",
    "# Setting 'brewing_materials' in df dictionary to new version. \n",
    "df_dict['brewing_materials'] = df_material_percentage"
   ]
  },
  {
   "cell_type": "markdown",
   "metadata": {},
   "source": [
    "##### Please note the 'brewing_materials' dataset 96% drop off in 2016 above. In 2015 the TTB filings used for this dataset change the form to face out the beer production _material reporting requirement_. The 'brewing_materials' data goes to nearly zero by year 2016.  "
   ]
  },
  {
   "cell_type": "markdown",
   "metadata": {},
   "source": [
    "##### In 'beer_states' df, grouping subtotals by 'state' & removing 'type' column. "
   ]
  },
  {
   "cell_type": "code",
   "execution_count": 326,
   "metadata": {},
   "outputs": [
    {
     "name": "stdout",
     "output_type": "stream",
     "text": [
      "Difference between 'barrels': 0.0\n",
      "\n",
      "\n",
      "    year state       barrels\n",
      "0  2008    AK  1.342068e+05\n",
      "1  2008    AL  1.166716e+06\n",
      "2  2008    AR  3.417910e+03\n"
     ]
    }
   ],
   "source": [
    "# summing the categories by Grouping \n",
    "df_state_grouped = df_dict[\"beer_states\"][['state','year','barrels']].groupby(['year', 'state']).sum().reset_index()\n",
    "\n",
    "print(f\"Difference between 'barrels': {round(df_dict['beer_states']['barrels'].sum() - df_state_grouped['barrels'].sum(),2):,}\")\n",
    "\n",
    "\n",
    "# Setting 'brewing_materials' in df dictionary to new version. \n",
    "df_dict['beer_states'] = df_state_grouped\n",
    "\n",
    "print('\\n\\n',df_dict['beer_states'].head(3))"
   ]
  },
  {
   "cell_type": "markdown",
   "metadata": {},
   "source": [
    "##### In 'beer_states' df, getting  percentage of 'barrels' for each 'state' for better map representation. "
   ]
  },
  {
   "cell_type": "code",
   "execution_count": 327,
   "metadata": {},
   "outputs": [
    {
     "name": "stdout",
     "output_type": "stream",
     "text": [
      "  state  year      barrels  percentage_total_barrels\n",
      "0    AK  2008    134206.79                      0.07\n",
      "1    AL  2008   1166715.84                      0.61\n",
      "2    AR  2008      3417.91                      0.00\n",
      "3    AZ  2008     40474.66                      0.02\n",
      "4    CA  2008  22149408.23                     11.56\n",
      "5    CO  2008  26795857.25                     13.98\n",
      "6    CT  2008      8043.24                      0.00\n",
      "7    DC  2008   1169525.08                      0.61\n",
      "8    DE  2008     85091.87                      0.04\n",
      "9    FL  2008   9497348.84                      4.95\n"
     ]
    }
   ],
   "source": [
    "# Add percentage_change to df_dict['brewing_materials']\n",
    "df_dict['beer_states']['barrels']  = round(df_dict['beer_states']['barrels'],2)\n",
    "\n",
    "# calculate the total 'barrels' for each 'year'\n",
    "df_dict['beer_states']['total_barrels_per_year'] = df_dict['beer_states'].groupby('year')['barrels'].transform('sum')\n",
    "\n",
    "# Calculate the percentage of 'barrels' for each 'state' in each 'year'\n",
    "df_dict['beer_states']['percentage_total_barrels'] = round(df_dict['beer_states']['barrels'] / df_dict['beer_states']['total_barrels_per_year'] * 100,2)\n",
    "\n",
    "df_dict[\"beer_states\"] = df_dict[\"beer_states\"][['state','year','barrels','percentage_total_barrels']]\n",
    "\n",
    "\n",
    "print(df_dict[\"beer_states\"].head(10))"
   ]
  },
  {
   "cell_type": "markdown",
   "metadata": {},
   "source": [
    "##### Adding State names from State abbreviations to Names in beer_states_df"
   ]
  },
  {
   "cell_type": "code",
   "execution_count": 328,
   "metadata": {},
   "outputs": [
    {
     "data": {
      "text/plain": [
       "state  state_name            id\n",
       "AK     Alaska                2     12\n",
       "AL     Alabama               1     12\n",
       "AR     Arkansas              5     12\n",
       "AZ     Arizona               4     12\n",
       "CA     California            6     12\n",
       "CO     Colorado              8     12\n",
       "CT     Connecticut           9     12\n",
       "DC     District of Columbia  11    12\n",
       "DE     Delaware              10    12\n",
       "FL     Florida               12    12\n",
       "GA     Georgia               13    12\n",
       "HI     Hawaii                15    12\n",
       "IA     Iowa                  19    12\n",
       "ID     Idaho                 16    12\n",
       "IL     Illinois              17    12\n",
       "IN     Indiana               18    12\n",
       "KS     Kansas                20    12\n",
       "KY     Kentucky              21    12\n",
       "LA     Louisiana             22    12\n",
       "MA     Massachusetts         25    12\n",
       "MD     Maryland              24    12\n",
       "ME     Maine                 23    12\n",
       "MI     Michigan              26    12\n",
       "MN     Minnesota             27    12\n",
       "MO     Missouri              29    12\n",
       "MS     Mississippi           28    12\n",
       "MT     Montana               30    12\n",
       "NC     North Carolina        37    12\n",
       "ND     North Dakota          38    12\n",
       "NE     Nebraska              31    12\n",
       "NH     New Hampshire         33    12\n",
       "NJ     New Jersey            34    12\n",
       "NM     New Mexico            35    12\n",
       "NV     Nevada                32    12\n",
       "NY     New York              36    12\n",
       "OH     Ohio                  39    12\n",
       "OK     Oklahoma              40    12\n",
       "OR     Oregon                41    12\n",
       "PA     Pennsylvania          42    12\n",
       "RI     Rhode Island          44    12\n",
       "SC     South Carolina        45    12\n",
       "SD     South Dakota          46    12\n",
       "TN     Tennessee             47    12\n",
       "TX     Texas                 48    12\n",
       "UT     Utah                  49    12\n",
       "VA     Virginia              51    12\n",
       "VT     Vermont               50    12\n",
       "WA     Washington            53    12\n",
       "WI     Wisconsin             55    12\n",
       "WV     West Virginia         54    12\n",
       "WY     Wyoming               56    12\n",
       "Name: count, dtype: int64"
      ]
     },
     "execution_count": 328,
     "metadata": {},
     "output_type": "execute_result"
    }
   ],
   "source": [
    "# USA States Dictionary \n",
    "us_state_abbrev = {'AL': 'Alabama', 'AK': 'Alaska', 'AZ': 'Arizona', 'AR': 'Arkansas', 'CA': 'California', 'CO': 'Colorado', 'CT': 'Connecticut', 'DC': 'District of Columbia', 'DE': 'Delaware', 'FL': 'Florida', 'GA': 'Georgia', 'HI': 'Hawaii', 'ID': 'Idaho', 'IL': 'Illinois', 'IN': 'Indiana', 'IA': 'Iowa', 'KS': 'Kansas', 'KY': 'Kentucky', 'LA': 'Louisiana', 'ME': 'Maine', 'MD': 'Maryland', 'MA': 'Massachusetts', 'MI': 'Michigan', 'MN': 'Minnesota', 'MS': 'Mississippi', 'MO': 'Missouri', 'MT': 'Montana', 'NE': 'Nebraska', 'NV': 'Nevada', 'NH': 'New Hampshire', 'NJ': 'New Jersey', 'NM': 'New Mexico', 'NY': 'New York', 'NC': 'North Carolina', 'ND': 'North Dakota', 'OH': 'Ohio', 'OK': 'Oklahoma', 'OR': 'Oregon', 'PA': 'Pennsylvania', 'RI': 'Rhode Island', 'SC': 'South Carolina', 'SD': 'South Dakota', 'TN': 'Tennessee', 'TX': 'Texas', 'UT': 'Utah', 'VT': 'Vermont', 'VA': 'Virginia', 'WA': 'Washington', 'WV': 'West Virginia', 'WI': 'Wisconsin', 'WY': 'Wyoming'}\n",
    "\n",
    "# Add a new column 'state_name' by mapping the 'state_abbr' column using the dictionary\n",
    "df_dict['beer_states']['state_name'] = df_dict['beer_states']['state'].map(us_state_abbrev)\n",
    "\n",
    "# USA States id Dictionary for us-10m.json\n",
    "us_state_id_dict = { \"AL\": \"1\",  \"AK\": \"2\",  \"AZ\": \"4\",  \"AR\": \"5\",  \"CA\": \"6\",  \"CO\": \"8\",  \"CT\": \"9\",  \"DE\": \"10\",  \"DC\": \"11\",  \"FL\": \"12\",  \"GA\": \"13\",  \"HI\": \"15\",  \"ID\": \"16\",  \"IL\": \"17\",  \"IN\": \"18\",  \"IA\": \"19\",  \"KS\": \"20\",  \"KY\": \"21\",  \"LA\": \"22\",  \"ME\": \"23\",  \"MD\": \"24\",  \"MA\": \"25\",  \"MI\": \"26\",  \"MN\": \"27\",  \"MS\": \"28\",  \"MO\": \"29\",  \"MT\": \"30\",  \"NE\": \"31\",  \"NV\": \"32\",  \"NH\": \"33\",  \"NJ\": \"34\",  \"NM\": \"35\",  \"NY\": \"36\",  \"NC\": \"37\",  \"ND\": \"38\",  \"OH\": \"39\",  \"OK\": \"40\",  \"OR\": \"41\",  \"PA\": \"42\",  \"RI\": \"44\",  \"SC\": \"45\",  \"SD\": \"46\",  \"TN\": \"47\",  \"TX\": \"48\",  \"UT\": \"49\",  \"VT\": \"50\",  \"VA\": \"51\",  \"WA\": \"53\",  \"WV\": \"54\",  \"WI\": \"55\",  \"WY\": \"56\"}\n",
    "\n",
    "# Add a new column 'id' by mapping the 'state_abbr' column using the States id dictionary\n",
    "df_dict['beer_states']['id'] = df_dict['beer_states']['state'].map(us_state_id_dict).astype(str)\n",
    "\n",
    "# Show  'state_name' & 'id' value for each 'state_abbr' value \n",
    "df_dict['beer_states'][['state', 'state_name', 'id']].groupby(['state','state_name']).value_counts()"
   ]
  },
  {
   "cell_type": "markdown",
   "metadata": {},
   "source": [
    "##### Save to csv's"
   ]
  },
  {
   "cell_type": "code",
   "execution_count": 329,
   "metadata": {},
   "outputs": [
    {
     "name": "stdout",
     "output_type": "stream",
     "text": [
      "________________________________________________________________________________ \n",
      "beer_taxed.csv:\n",
      "\n",
      "________________________________________________________________________________ \n",
      "beer_states.csv:\n",
      "\n",
      "________________________________________________________________________________ \n",
      "brewer_size.csv:\n",
      "\n",
      "________________________________________________________________________________ \n",
      "brewing_materials.csv:\n",
      "\n",
      "________________________________________________________________________________ \n",
      "beer_states.csv:\n",
      "\n"
     ]
    }
   ],
   "source": [
    "# Create function to save each df to csv\n",
    "import csv\n",
    "\n",
    "\n",
    "def save_to_csv(d):\n",
    "    for name, df in d.items():\n",
    "        print(\"_\"*80,f\"\\n{name}.csv:\\n\")\n",
    "        df.to_csv(f'{name}.csv',index=False, quoting=csv.QUOTE_NONNUMERIC)\n",
    "\n",
    "# Run each df\n",
    "\n",
    "save_to_csv(df_dict)\n",
    "print(\"_\"*80,f\"\\n{'beer_states'}.csv:\\n\")\n",
    "df_dict['beer_states'].to_csv(f'{\"beer_states\"}.csv',index=False, quoting=csv.QUOTE_NONNUMERIC)"
   ]
  }
 ],
 "metadata": {
  "kernelspec": {
   "display_name": "Python 3",
   "language": "python",
   "name": "python3"
  },
  "language_info": {
   "codemirror_mode": {
    "name": "ipython",
    "version": 3
   },
   "file_extension": ".py",
   "mimetype": "text/x-python",
   "name": "python",
   "nbconvert_exporter": "python",
   "pygments_lexer": "ipython3",
   "version": "3.11.4"
  }
 },
 "nbformat": 4,
 "nbformat_minor": 2
}
